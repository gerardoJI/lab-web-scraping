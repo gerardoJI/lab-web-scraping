{
 "cells": [
  {
   "cell_type": "markdown",
   "id": "7e7a1ab8-2599-417d-9a65-25ef07f3a786",
   "metadata": {
    "id": "7e7a1ab8-2599-417d-9a65-25ef07f3a786"
   },
   "source": [
    "# Lab | Web Scraping"
   ]
  },
  {
   "cell_type": "markdown",
   "id": "ce8882fc-4815-4567-92fa-b4816358ba7d",
   "metadata": {
    "id": "ce8882fc-4815-4567-92fa-b4816358ba7d"
   },
   "source": [
    "Welcome to the \"Books to Scrape\" Web Scraping Adventure Lab!\n",
    "\n",
    "**Objective**\n",
    "\n",
    "In this lab, we will embark on a mission to unearth valuable insights from the data available on Books to Scrape, an online platform showcasing a wide variety of books. As data analyst, you have been tasked with scraping a specific subset of book data from Books to Scrape to assist publishing companies in understanding the landscape of highly-rated books across different genres. Your insights will help shape future book marketing strategies and publishing decisions.\n",
    "\n",
    "**Background**\n",
    "\n",
    "In a world where data has become the new currency, businesses are leveraging big data to make informed decisions that drive success and profitability. The publishing industry, much like others, utilizes data analytics to understand market trends, reader preferences, and the performance of books based on factors such as genre, author, and ratings. Books to Scrape serves as a rich source of such data, offering detailed information about a diverse range of books, making it an ideal platform for extracting insights to aid in informed decision-making within the literary world.\n",
    "\n",
    "**Task**\n",
    "\n",
    "Your task is to create a Python script using BeautifulSoup and pandas to scrape Books to Scrape book data, focusing on book ratings and genres. The script should be able to filter books with ratings above a certain threshold and in specific genres. Additionally, the script should structure the scraped data in a tabular format using pandas for further analysis.\n",
    "\n",
    "**Expected Outcome**\n",
    "\n",
    "A function named `scrape_books` that takes two parameters: `min_rating` and `max_price`. The function should scrape book data from the \"Books to Scrape\" website and return a `pandas` DataFrame with the following columns:\n",
    "\n",
    "**Expected Outcome**\n",
    "\n",
    "- A function named `scrape_books` that takes two parameters: `min_rating` and `max_price`.\n",
    "- The function should return a DataFrame with the following columns:\n",
    "  - **UPC**: The Universal Product Code (UPC) of the book.\n",
    "  - **Title**: The title of the book.\n",
    "  - **Price (£)**: The price of the book in pounds.\n",
    "  - **Rating**: The rating of the book (1-5 stars).\n",
    "  - **Genre**: The genre of the book.\n",
    "  - **Availability**: Whether the book is in stock or not.\n",
    "  - **Description**: A brief description or product description of the book (if available).\n",
    "  \n",
    "You will execute this script to scrape data for books with a minimum rating of `4.0 and above` and a maximum price of `£20`. \n",
    "\n",
    "Remember to experiment with different ratings and prices to ensure your code is versatile and can handle various searches effectively!\n",
    "\n",
    "**Resources**\n",
    "\n",
    "- [Beautiful Soup Documentation](https://www.crummy.com/software/BeautifulSoup/bs4/doc/)\n",
    "- [Pandas Documentation](https://pandas.pydata.org/pandas-docs/stable/index.html)\n",
    "- [Books to Scrape](https://books.toscrape.com/)\n"
   ]
  },
  {
   "cell_type": "markdown",
   "id": "3519921d-5890-445b-9a33-934ed8ee378c",
   "metadata": {
    "id": "3519921d-5890-445b-9a33-934ed8ee378c"
   },
   "source": [
    "**Hint**\n",
    "\n",
    "Your first mission is to familiarize yourself with the **Books to Scrape** website. Navigate to [Books to Scrape](http://books.toscrape.com/) and explore the available books to understand their layout and structure. \n",
    "\n",
    "Next, think about how you can set parameters for your data extraction:\n",
    "\n",
    "- **Minimum Rating**: Focus on books with a rating of 4.0 and above.\n",
    "- **Maximum Price**: Filter for books priced up to £20.\n",
    "\n",
    "After reviewing the site, you can construct a plan for scraping relevant data. Pay attention to the details displayed for each book, including the title, price, rating, and availability. This will help you identify the correct HTML elements to target with your scraping script.\n",
    "\n",
    "Make sure to build your scraping URL and logic based on the patterns you observe in the HTML structure of the book listings!"
   ]
  },
  {
   "cell_type": "markdown",
   "id": "25a83a0d-a742-49f6-985e-e27887cbf922",
   "metadata": {
    "id": "25a83a0d-a742-49f6-985e-e27887cbf922"
   },
   "source": [
    "\n",
    "---\n",
    "\n",
    "**Best of luck! Immerse yourself in the world of books, and may the data be with you!**"
   ]
  },
  {
   "cell_type": "markdown",
   "id": "7b75cf0d-9afa-4eec-a9e2-befeac68b2a0",
   "metadata": {
    "id": "7b75cf0d-9afa-4eec-a9e2-befeac68b2a0"
   },
   "source": [
    "**Important Note**:\n",
    "\n",
    "In the fast-changing online world, websites often update and change their structures. When you try this lab, the **Books to Scrape** website might differ from what you expect.\n",
    "\n",
    "If you encounter issues due to these changes, like new rules or obstacles preventing data extraction, don’t worry! Get creative.\n",
    "\n",
    "You can choose another website that interests you and is suitable for scraping data. Options like Wikipedia, The New York Times, or even library databases are great alternatives. The main goal remains the same: extract useful data and enhance your web scraping skills while exploring a source of information you enjoy. This is your opportunity to practice and adapt to different web environments!"
   ]
  },
  {
   "cell_type": "code",
   "execution_count": 17,
   "id": "40359eee-9cd7-4884-bfa4-83344c222305",
   "metadata": {
    "id": "40359eee-9cd7-4884-bfa4-83344c222305"
   },
   "outputs": [
    {
     "name": "stderr",
     "output_type": "stream",
     "text": [
      "C:\\Users\\Gerardo\\AppData\\Local\\Temp\\ipykernel_22688\\408336456.py:48: DeprecationWarning: The 'text' argument to find()-type methods is deprecated. Use 'string' instead.\n",
      "  upc_element = book_soup.find('th', text='UPC')\n"
     ]
    },
    {
     "name": "stdout",
     "output_type": "stream",
     "text": [
      "   UPC                                              Title  Price (£)  Rating  \\\n",
      "0  N/A  The Coming Woman: A Novel Based on the Life of...      17.93       3   \n",
      "1  N/A                                        Set Me Free      17.46       5   \n",
      "2  N/A  The Four Agreements: A Practical Guide to Pers...      17.66       5   \n",
      "3  N/A                                     Sophie's World      15.94       5   \n",
      "4  N/A            Untitled Collection: Sabbath Poems 2014      14.27       4   \n",
      "\n",
      "          Genre Availability               Description  \n",
      "0  All products     In stock  No description available  \n",
      "1  All products     In stock  No description available  \n",
      "2  All products     In stock  No description available  \n",
      "3  All products     In stock  No description available  \n",
      "4  All products     In stock  No description available  \n"
     ]
    }
   ],
   "source": [
    "import requests\n",
    "from bs4 import BeautifulSoup\n",
    "import pandas as pd\n",
    "import time\n",
    "\n",
    "def scrape_books(min_rating, max_price):\n",
    "    base_url = \"https://books.toscrape.com/catalogue/page-{}.html\"\n",
    "    books_data = []\n",
    "\n",
    "    # Loop through pages (the website has 50 pages of books)\n",
    "    for page_num in range(1, 51):\n",
    "        url = base_url.format(page_num)\n",
    "        try:\n",
    "            response = requests.get(url)\n",
    "            response.raise_for_status()  # Check if the request was successful\n",
    "            soup = BeautifulSoup(response.text, 'html.parser')\n",
    "        except requests.exceptions.RequestException as e:\n",
    "            print(f\"Error fetching page {page_num}: {e}\")\n",
    "            continue  # Skip this page and move to the next one\n",
    "        \n",
    "        books = soup.find_all('article', class_='product_pod')\n",
    "\n",
    "        for book in books:\n",
    "            try:\n",
    "                # Extract book details\n",
    "                title = book.find('h3').find('a')['title']\n",
    "                price = float(book.find('p', class_='price_color').text[1:].replace(\"£\", \"\"))\n",
    "                rating = book.find('p', class_='star-rating')['class'][1]\n",
    "                availability = book.find('p', class_='instock availability').text.strip()\n",
    "\n",
    "                if 'In stock' not in availability or price > max_price:\n",
    "                    continue  # Skip books that aren't in stock or are too expensive\n",
    "                \n",
    "                rating_map = {'One': 1, 'Two': 2, 'Three': 3, 'Four': 4, 'Five': 5}\n",
    "                rating_value = rating_map.get(rating, 0)\n",
    "\n",
    "                # Get genre (assuming it's the last breadcrumb item)\n",
    "                genre = soup.find('ul', class_='breadcrumb').find_all('li')[-1].text.strip()\n",
    "\n",
    "                # Get the UPC of the book (Universal Product Code)\n",
    "                book_page = book.find('h3').find('a')['href']\n",
    "                book_url = \"https://books.toscrape.com/catalogue\" + book_page[8:]\n",
    "                book_response = requests.get(book_url)\n",
    "                book_soup = BeautifulSoup(book_response.text, 'html.parser')\n",
    "\n",
    "                # Safe UPC extraction (Handle cases where UPC might not exist)\n",
    "                upc = None\n",
    "                upc_element = book_soup.find('th', text='UPC')\n",
    "                if upc_element:\n",
    "                    upc = upc_element.find_next_sibling('td').text.strip()\n",
    "\n",
    "                # Description (if available)\n",
    "                description = book_soup.find('meta', {'name': 'description'})\n",
    "                description = description['content'] if description else 'No description available'\n",
    "\n",
    "                # Only add books that meet the minimum rating\n",
    "                if rating_value >= min_rating:\n",
    "                    books_data.append({\n",
    "                        'UPC': upc if upc else 'N/A',  # If UPC is not found, use 'N/A'\n",
    "                        'Title': title,\n",
    "                        'Price (£)': price,\n",
    "                        'Rating': rating_value,\n",
    "                        'Genre': genre,\n",
    "                        'Availability': availability,\n",
    "                        'Description': description\n",
    "                    })\n",
    "            except Exception as e:\n",
    "                print(f\"Error processing book: {e}\")\n",
    "                continue  # Skip this book if there is an issue\n",
    "\n",
    "        # Add a delay between requests to avoid overwhelming the server\n",
    "        time.sleep(1)\n",
    "\n",
    "    # Convert to pandas DataFrame\n",
    "    books_df = pd.DataFrame(books_data)\n",
    "    return books_df\n",
    "\n",
    "# Example usage\n",
    "df = scrape_books(min_rating=3, max_price=20.0)\n",
    "print(df.head())\n"
   ]
  }
 ],
 "metadata": {
  "colab": {
   "provenance": []
  },
  "kernelspec": {
   "display_name": "base",
   "language": "python",
   "name": "python3"
  },
  "language_info": {
   "codemirror_mode": {
    "name": "ipython",
    "version": 3
   },
   "file_extension": ".py",
   "mimetype": "text/x-python",
   "name": "python",
   "nbconvert_exporter": "python",
   "pygments_lexer": "ipython3",
   "version": "3.12.4"
  }
 },
 "nbformat": 4,
 "nbformat_minor": 5
}
